{
 "cells": [
  {
   "cell_type": "code",
   "execution_count": 21,
   "id": "677acdbb",
   "metadata": {},
   "outputs": [],
   "source": [
    "import pandas as pd\n",
    "import numpy as np\n",
    "import datetime as dt"
   ]
  },
  {
   "cell_type": "code",
   "execution_count": 44,
   "id": "2956721f",
   "metadata": {},
   "outputs": [
    {
     "data": {
      "text/html": [
       "<div>\n",
       "<style scoped>\n",
       "    .dataframe tbody tr th:only-of-type {\n",
       "        vertical-align: middle;\n",
       "    }\n",
       "\n",
       "    .dataframe tbody tr th {\n",
       "        vertical-align: top;\n",
       "    }\n",
       "\n",
       "    .dataframe thead th {\n",
       "        text-align: right;\n",
       "    }\n",
       "</style>\n",
       "<table border=\"1\" class=\"dataframe\">\n",
       "  <thead>\n",
       "    <tr style=\"text-align: right;\">\n",
       "      <th></th>\n",
       "      <th>Order Date</th>\n",
       "      <th>Customer Name</th>\n",
       "      <th>State</th>\n",
       "      <th>Category</th>\n",
       "      <th>Sub-Category</th>\n",
       "      <th>Sales</th>\n",
       "      <th>Quantity</th>\n",
       "      <th>Profit</th>\n",
       "    </tr>\n",
       "  </thead>\n",
       "  <tbody>\n",
       "    <tr>\n",
       "      <th>0</th>\n",
       "      <td>03-01-2014</td>\n",
       "      <td>Darren Powers</td>\n",
       "      <td>Texas</td>\n",
       "      <td>Office Supplies</td>\n",
       "      <td>Paper</td>\n",
       "      <td>16.45</td>\n",
       "      <td>2</td>\n",
       "      <td>5.55</td>\n",
       "    </tr>\n",
       "    <tr>\n",
       "      <th>1</th>\n",
       "      <td>04-01-2014</td>\n",
       "      <td>Phillina Ober</td>\n",
       "      <td>Illinois</td>\n",
       "      <td>Office Supplies</td>\n",
       "      <td>Labels</td>\n",
       "      <td>11.78</td>\n",
       "      <td>3</td>\n",
       "      <td>4.27</td>\n",
       "    </tr>\n",
       "    <tr>\n",
       "      <th>2</th>\n",
       "      <td>04-01-2014</td>\n",
       "      <td>Phillina Ober</td>\n",
       "      <td>Illinois</td>\n",
       "      <td>Office Supplies</td>\n",
       "      <td>Storage</td>\n",
       "      <td>272.74</td>\n",
       "      <td>3</td>\n",
       "      <td>-64.77</td>\n",
       "    </tr>\n",
       "    <tr>\n",
       "      <th>3</th>\n",
       "      <td>04-01-2014</td>\n",
       "      <td>Phillina Ober</td>\n",
       "      <td>Illinois</td>\n",
       "      <td>Office Supplies</td>\n",
       "      <td>Binders</td>\n",
       "      <td>3.54</td>\n",
       "      <td>2</td>\n",
       "      <td>-5.49</td>\n",
       "    </tr>\n",
       "    <tr>\n",
       "      <th>4</th>\n",
       "      <td>05-01-2014</td>\n",
       "      <td>Mick Brown</td>\n",
       "      <td>Pennsylvania</td>\n",
       "      <td>Office Supplies</td>\n",
       "      <td>Art</td>\n",
       "      <td>19.54</td>\n",
       "      <td>3</td>\n",
       "      <td>4.88</td>\n",
       "    </tr>\n",
       "    <tr>\n",
       "      <th>...</th>\n",
       "      <td>...</td>\n",
       "      <td>...</td>\n",
       "      <td>...</td>\n",
       "      <td>...</td>\n",
       "      <td>...</td>\n",
       "      <td>...</td>\n",
       "      <td>...</td>\n",
       "      <td>...</td>\n",
       "    </tr>\n",
       "    <tr>\n",
       "      <th>9989</th>\n",
       "      <td>30-12-2017</td>\n",
       "      <td>Patrick O'Donnell</td>\n",
       "      <td>New York</td>\n",
       "      <td>Technology</td>\n",
       "      <td>Phones</td>\n",
       "      <td>90.93</td>\n",
       "      <td>7</td>\n",
       "      <td>2.73</td>\n",
       "    </tr>\n",
       "    <tr>\n",
       "      <th>9990</th>\n",
       "      <td>30-12-2017</td>\n",
       "      <td>Patrick O'Donnell</td>\n",
       "      <td>New York</td>\n",
       "      <td>Office Supplies</td>\n",
       "      <td>Binders</td>\n",
       "      <td>52.78</td>\n",
       "      <td>3</td>\n",
       "      <td>19.79</td>\n",
       "    </tr>\n",
       "    <tr>\n",
       "      <th>9991</th>\n",
       "      <td>30-12-2017</td>\n",
       "      <td>Erica Bern</td>\n",
       "      <td>California</td>\n",
       "      <td>Office Supplies</td>\n",
       "      <td>Binders</td>\n",
       "      <td>13.90</td>\n",
       "      <td>2</td>\n",
       "      <td>4.52</td>\n",
       "    </tr>\n",
       "    <tr>\n",
       "      <th>9992</th>\n",
       "      <td>30-12-2017</td>\n",
       "      <td>Erica Bern</td>\n",
       "      <td>California</td>\n",
       "      <td>Office Supplies</td>\n",
       "      <td>Binders</td>\n",
       "      <td>20.72</td>\n",
       "      <td>2</td>\n",
       "      <td>6.48</td>\n",
       "    </tr>\n",
       "    <tr>\n",
       "      <th>9993</th>\n",
       "      <td>30-12-2017</td>\n",
       "      <td>Jill Matthias</td>\n",
       "      <td>Colorado</td>\n",
       "      <td>Office Supplies</td>\n",
       "      <td>Fasteners</td>\n",
       "      <td>3.02</td>\n",
       "      <td>3</td>\n",
       "      <td>-0.60</td>\n",
       "    </tr>\n",
       "  </tbody>\n",
       "</table>\n",
       "<p>9994 rows × 8 columns</p>\n",
       "</div>"
      ],
      "text/plain": [
       "      Order Date      Customer Name         State         Category   \n",
       "0     03-01-2014      Darren Powers         Texas  Office Supplies  \\\n",
       "1     04-01-2014      Phillina Ober      Illinois  Office Supplies   \n",
       "2     04-01-2014      Phillina Ober      Illinois  Office Supplies   \n",
       "3     04-01-2014      Phillina Ober      Illinois  Office Supplies   \n",
       "4     05-01-2014         Mick Brown  Pennsylvania  Office Supplies   \n",
       "...          ...                ...           ...              ...   \n",
       "9989  30-12-2017  Patrick O'Donnell      New York       Technology   \n",
       "9990  30-12-2017  Patrick O'Donnell      New York  Office Supplies   \n",
       "9991  30-12-2017         Erica Bern    California  Office Supplies   \n",
       "9992  30-12-2017         Erica Bern    California  Office Supplies   \n",
       "9993  30-12-2017      Jill Matthias      Colorado  Office Supplies   \n",
       "\n",
       "     Sub-Category   Sales  Quantity  Profit  \n",
       "0           Paper   16.45         2    5.55  \n",
       "1          Labels   11.78         3    4.27  \n",
       "2         Storage  272.74         3  -64.77  \n",
       "3         Binders    3.54         2   -5.49  \n",
       "4             Art   19.54         3    4.88  \n",
       "...           ...     ...       ...     ...  \n",
       "9989       Phones   90.93         7    2.73  \n",
       "9990      Binders   52.78         3   19.79  \n",
       "9991      Binders   13.90         2    4.52  \n",
       "9992      Binders   20.72         2    6.48  \n",
       "9993    Fasteners    3.02         3   -0.60  \n",
       "\n",
       "[9994 rows x 8 columns]"
      ]
     },
     "execution_count": 44,
     "metadata": {},
     "output_type": "execute_result"
    }
   ],
   "source": [
    "data=pd.read_csv(\"D:\\DOWNLOAD\\salesdata (1).csv\")\n",
    "data"
   ]
  },
  {
   "cell_type": "code",
   "execution_count": 7,
   "id": "99d7afc4",
   "metadata": {},
   "outputs": [
    {
     "data": {
      "text/plain": [
       "(9994, 8)"
      ]
     },
     "execution_count": 7,
     "metadata": {},
     "output_type": "execute_result"
    }
   ],
   "source": [
    "data.shape"
   ]
  },
  {
   "cell_type": "code",
   "execution_count": 11,
   "id": "dad9bcc0",
   "metadata": {},
   "outputs": [
    {
     "data": {
      "text/html": [
       "<div>\n",
       "<style scoped>\n",
       "    .dataframe tbody tr th:only-of-type {\n",
       "        vertical-align: middle;\n",
       "    }\n",
       "\n",
       "    .dataframe tbody tr th {\n",
       "        vertical-align: top;\n",
       "    }\n",
       "\n",
       "    .dataframe thead th {\n",
       "        text-align: right;\n",
       "    }\n",
       "</style>\n",
       "<table border=\"1\" class=\"dataframe\">\n",
       "  <thead>\n",
       "    <tr style=\"text-align: right;\">\n",
       "      <th></th>\n",
       "      <th>Order Date</th>\n",
       "      <th>Customer Name</th>\n",
       "      <th>State</th>\n",
       "      <th>Category</th>\n",
       "      <th>Sub-Category</th>\n",
       "      <th>Sales</th>\n",
       "      <th>Quantity</th>\n",
       "      <th>Profit</th>\n",
       "    </tr>\n",
       "  </thead>\n",
       "  <tbody>\n",
       "    <tr>\n",
       "      <th>385</th>\n",
       "      <td>23-04-2014</td>\n",
       "      <td>Laurel Beltran</td>\n",
       "      <td>Ohio</td>\n",
       "      <td>Furniture</td>\n",
       "      <td>Chairs</td>\n",
       "      <td>281.37</td>\n",
       "      <td>2</td>\n",
       "      <td>-12.06</td>\n",
       "    </tr>\n",
       "  </tbody>\n",
       "</table>\n",
       "</div>"
      ],
      "text/plain": [
       "     Order Date   Customer Name State   Category Sub-Category   Sales   \n",
       "385  23-04-2014  Laurel Beltran  Ohio  Furniture       Chairs  281.37  \\\n",
       "\n",
       "     Quantity  Profit  \n",
       "385         2  -12.06  "
      ]
     },
     "execution_count": 11,
     "metadata": {},
     "output_type": "execute_result"
    }
   ],
   "source": [
    "data[data.duplicated()]"
   ]
  },
  {
   "cell_type": "code",
   "execution_count": 12,
   "id": "23381023",
   "metadata": {},
   "outputs": [],
   "source": [
    "data.drop_duplicates(inplace=True)"
   ]
  },
  {
   "cell_type": "code",
   "execution_count": 13,
   "id": "ed897eac",
   "metadata": {},
   "outputs": [
    {
     "data": {
      "text/plain": [
       "(9993, 8)"
      ]
     },
     "execution_count": 13,
     "metadata": {},
     "output_type": "execute_result"
    }
   ],
   "source": [
    "data.shape"
   ]
  },
  {
   "cell_type": "code",
   "execution_count": 14,
   "id": "5e703ae3",
   "metadata": {},
   "outputs": [
    {
     "data": {
      "text/plain": [
       "Order Date       0\n",
       "Customer Name    0\n",
       "State            0\n",
       "Category         0\n",
       "Sub-Category     0\n",
       "Sales            0\n",
       "Quantity         0\n",
       "Profit           0\n",
       "dtype: int64"
      ]
     },
     "execution_count": 14,
     "metadata": {},
     "output_type": "execute_result"
    }
   ],
   "source": [
    "data.isna().sum()"
   ]
  },
  {
   "cell_type": "code",
   "execution_count": 15,
   "id": "de3dd160",
   "metadata": {},
   "outputs": [
    {
     "name": "stdout",
     "output_type": "stream",
     "text": [
      "<class 'pandas.core.frame.DataFrame'>\n",
      "Index: 9993 entries, 0 to 9993\n",
      "Data columns (total 8 columns):\n",
      " #   Column         Non-Null Count  Dtype  \n",
      "---  ------         --------------  -----  \n",
      " 0   Order Date     9993 non-null   object \n",
      " 1   Customer Name  9993 non-null   object \n",
      " 2   State          9993 non-null   object \n",
      " 3   Category       9993 non-null   object \n",
      " 4   Sub-Category   9993 non-null   object \n",
      " 5   Sales          9993 non-null   float64\n",
      " 6   Quantity       9993 non-null   int64  \n",
      " 7   Profit         9993 non-null   float64\n",
      "dtypes: float64(2), int64(1), object(5)\n",
      "memory usage: 702.6+ KB\n"
     ]
    }
   ],
   "source": [
    "data.info()"
   ]
  },
  {
   "cell_type": "code",
   "execution_count": 16,
   "id": "d1ec9ce7",
   "metadata": {},
   "outputs": [
    {
     "data": {
      "text/html": [
       "<div>\n",
       "<style scoped>\n",
       "    .dataframe tbody tr th:only-of-type {\n",
       "        vertical-align: middle;\n",
       "    }\n",
       "\n",
       "    .dataframe tbody tr th {\n",
       "        vertical-align: top;\n",
       "    }\n",
       "\n",
       "    .dataframe thead th {\n",
       "        text-align: right;\n",
       "    }\n",
       "</style>\n",
       "<table border=\"1\" class=\"dataframe\">\n",
       "  <thead>\n",
       "    <tr style=\"text-align: right;\">\n",
       "      <th></th>\n",
       "      <th>Order Date</th>\n",
       "      <th>Customer Name</th>\n",
       "      <th>State</th>\n",
       "      <th>Category</th>\n",
       "      <th>Sub-Category</th>\n",
       "      <th>Sales</th>\n",
       "      <th>Quantity</th>\n",
       "      <th>Profit</th>\n",
       "    </tr>\n",
       "  </thead>\n",
       "  <tbody>\n",
       "    <tr>\n",
       "      <th>count</th>\n",
       "      <td>9993</td>\n",
       "      <td>9993</td>\n",
       "      <td>9993</td>\n",
       "      <td>9993</td>\n",
       "      <td>9993</td>\n",
       "      <td>9993.000000</td>\n",
       "      <td>9993.000000</td>\n",
       "      <td>9993.000000</td>\n",
       "    </tr>\n",
       "    <tr>\n",
       "      <th>unique</th>\n",
       "      <td>1237</td>\n",
       "      <td>793</td>\n",
       "      <td>49</td>\n",
       "      <td>3</td>\n",
       "      <td>17</td>\n",
       "      <td>NaN</td>\n",
       "      <td>NaN</td>\n",
       "      <td>NaN</td>\n",
       "    </tr>\n",
       "    <tr>\n",
       "      <th>top</th>\n",
       "      <td>05-09-2016</td>\n",
       "      <td>William Brown</td>\n",
       "      <td>California</td>\n",
       "      <td>Office Supplies</td>\n",
       "      <td>Binders</td>\n",
       "      <td>NaN</td>\n",
       "      <td>NaN</td>\n",
       "      <td>NaN</td>\n",
       "    </tr>\n",
       "    <tr>\n",
       "      <th>freq</th>\n",
       "      <td>38</td>\n",
       "      <td>37</td>\n",
       "      <td>2001</td>\n",
       "      <td>6026</td>\n",
       "      <td>1523</td>\n",
       "      <td>NaN</td>\n",
       "      <td>NaN</td>\n",
       "      <td>NaN</td>\n",
       "    </tr>\n",
       "    <tr>\n",
       "      <th>mean</th>\n",
       "      <td>NaN</td>\n",
       "      <td>NaN</td>\n",
       "      <td>NaN</td>\n",
       "      <td>NaN</td>\n",
       "      <td>NaN</td>\n",
       "      <td>229.852867</td>\n",
       "      <td>3.789753</td>\n",
       "      <td>28.661048</td>\n",
       "    </tr>\n",
       "    <tr>\n",
       "      <th>std</th>\n",
       "      <td>NaN</td>\n",
       "      <td>NaN</td>\n",
       "      <td>NaN</td>\n",
       "      <td>NaN</td>\n",
       "      <td>NaN</td>\n",
       "      <td>623.276104</td>\n",
       "      <td>2.225149</td>\n",
       "      <td>234.271571</td>\n",
       "    </tr>\n",
       "    <tr>\n",
       "      <th>min</th>\n",
       "      <td>NaN</td>\n",
       "      <td>NaN</td>\n",
       "      <td>NaN</td>\n",
       "      <td>NaN</td>\n",
       "      <td>NaN</td>\n",
       "      <td>0.440000</td>\n",
       "      <td>1.000000</td>\n",
       "      <td>-6599.980000</td>\n",
       "    </tr>\n",
       "    <tr>\n",
       "      <th>25%</th>\n",
       "      <td>NaN</td>\n",
       "      <td>NaN</td>\n",
       "      <td>NaN</td>\n",
       "      <td>NaN</td>\n",
       "      <td>NaN</td>\n",
       "      <td>17.280000</td>\n",
       "      <td>2.000000</td>\n",
       "      <td>1.730000</td>\n",
       "    </tr>\n",
       "    <tr>\n",
       "      <th>50%</th>\n",
       "      <td>NaN</td>\n",
       "      <td>NaN</td>\n",
       "      <td>NaN</td>\n",
       "      <td>NaN</td>\n",
       "      <td>NaN</td>\n",
       "      <td>54.480000</td>\n",
       "      <td>3.000000</td>\n",
       "      <td>8.670000</td>\n",
       "    </tr>\n",
       "    <tr>\n",
       "      <th>75%</th>\n",
       "      <td>NaN</td>\n",
       "      <td>NaN</td>\n",
       "      <td>NaN</td>\n",
       "      <td>NaN</td>\n",
       "      <td>NaN</td>\n",
       "      <td>209.940000</td>\n",
       "      <td>5.000000</td>\n",
       "      <td>29.360000</td>\n",
       "    </tr>\n",
       "    <tr>\n",
       "      <th>max</th>\n",
       "      <td>NaN</td>\n",
       "      <td>NaN</td>\n",
       "      <td>NaN</td>\n",
       "      <td>NaN</td>\n",
       "      <td>NaN</td>\n",
       "      <td>22638.480000</td>\n",
       "      <td>14.000000</td>\n",
       "      <td>8399.980000</td>\n",
       "    </tr>\n",
       "  </tbody>\n",
       "</table>\n",
       "</div>"
      ],
      "text/plain": [
       "        Order Date  Customer Name       State         Category Sub-Category   \n",
       "count         9993           9993        9993             9993         9993  \\\n",
       "unique        1237            793          49                3           17   \n",
       "top     05-09-2016  William Brown  California  Office Supplies      Binders   \n",
       "freq            38             37        2001             6026         1523   \n",
       "mean           NaN            NaN         NaN              NaN          NaN   \n",
       "std            NaN            NaN         NaN              NaN          NaN   \n",
       "min            NaN            NaN         NaN              NaN          NaN   \n",
       "25%            NaN            NaN         NaN              NaN          NaN   \n",
       "50%            NaN            NaN         NaN              NaN          NaN   \n",
       "75%            NaN            NaN         NaN              NaN          NaN   \n",
       "max            NaN            NaN         NaN              NaN          NaN   \n",
       "\n",
       "               Sales     Quantity       Profit  \n",
       "count    9993.000000  9993.000000  9993.000000  \n",
       "unique           NaN          NaN          NaN  \n",
       "top              NaN          NaN          NaN  \n",
       "freq             NaN          NaN          NaN  \n",
       "mean      229.852867     3.789753    28.661048  \n",
       "std       623.276104     2.225149   234.271571  \n",
       "min         0.440000     1.000000 -6599.980000  \n",
       "25%        17.280000     2.000000     1.730000  \n",
       "50%        54.480000     3.000000     8.670000  \n",
       "75%       209.940000     5.000000    29.360000  \n",
       "max     22638.480000    14.000000  8399.980000  "
      ]
     },
     "execution_count": 16,
     "metadata": {},
     "output_type": "execute_result"
    }
   ],
   "source": [
    "data.describe(include=\"all\")"
   ]
  },
  {
   "cell_type": "markdown",
   "id": "fd19000e",
   "metadata": {},
   "source": [
    "For monthly sale and yearly sale we need to extract year and month from date"
   ]
  },
  {
   "cell_type": "code",
   "execution_count": 45,
   "id": "3ef84185",
   "metadata": {},
   "outputs": [
    {
     "data": {
      "text/html": [
       "<div>\n",
       "<style scoped>\n",
       "    .dataframe tbody tr th:only-of-type {\n",
       "        vertical-align: middle;\n",
       "    }\n",
       "\n",
       "    .dataframe tbody tr th {\n",
       "        vertical-align: top;\n",
       "    }\n",
       "\n",
       "    .dataframe thead th {\n",
       "        text-align: right;\n",
       "    }\n",
       "</style>\n",
       "<table border=\"1\" class=\"dataframe\">\n",
       "  <thead>\n",
       "    <tr style=\"text-align: right;\">\n",
       "      <th></th>\n",
       "      <th>Order Date</th>\n",
       "      <th>Customer Name</th>\n",
       "      <th>State</th>\n",
       "      <th>Category</th>\n",
       "      <th>Sub-Category</th>\n",
       "      <th>Sales</th>\n",
       "      <th>Quantity</th>\n",
       "      <th>Profit</th>\n",
       "      <th>Year</th>\n",
       "      <th>Month</th>\n",
       "    </tr>\n",
       "  </thead>\n",
       "  <tbody>\n",
       "    <tr>\n",
       "      <th>0</th>\n",
       "      <td>2014-01-03</td>\n",
       "      <td>Darren Powers</td>\n",
       "      <td>Texas</td>\n",
       "      <td>Office Supplies</td>\n",
       "      <td>Paper</td>\n",
       "      <td>16.45</td>\n",
       "      <td>2</td>\n",
       "      <td>5.55</td>\n",
       "      <td>2014</td>\n",
       "      <td>1</td>\n",
       "    </tr>\n",
       "    <tr>\n",
       "      <th>1</th>\n",
       "      <td>2014-01-04</td>\n",
       "      <td>Phillina Ober</td>\n",
       "      <td>Illinois</td>\n",
       "      <td>Office Supplies</td>\n",
       "      <td>Labels</td>\n",
       "      <td>11.78</td>\n",
       "      <td>3</td>\n",
       "      <td>4.27</td>\n",
       "      <td>2014</td>\n",
       "      <td>1</td>\n",
       "    </tr>\n",
       "    <tr>\n",
       "      <th>2</th>\n",
       "      <td>2014-01-04</td>\n",
       "      <td>Phillina Ober</td>\n",
       "      <td>Illinois</td>\n",
       "      <td>Office Supplies</td>\n",
       "      <td>Storage</td>\n",
       "      <td>272.74</td>\n",
       "      <td>3</td>\n",
       "      <td>-64.77</td>\n",
       "      <td>2014</td>\n",
       "      <td>1</td>\n",
       "    </tr>\n",
       "    <tr>\n",
       "      <th>3</th>\n",
       "      <td>2014-01-04</td>\n",
       "      <td>Phillina Ober</td>\n",
       "      <td>Illinois</td>\n",
       "      <td>Office Supplies</td>\n",
       "      <td>Binders</td>\n",
       "      <td>3.54</td>\n",
       "      <td>2</td>\n",
       "      <td>-5.49</td>\n",
       "      <td>2014</td>\n",
       "      <td>1</td>\n",
       "    </tr>\n",
       "    <tr>\n",
       "      <th>4</th>\n",
       "      <td>2014-01-05</td>\n",
       "      <td>Mick Brown</td>\n",
       "      <td>Pennsylvania</td>\n",
       "      <td>Office Supplies</td>\n",
       "      <td>Art</td>\n",
       "      <td>19.54</td>\n",
       "      <td>3</td>\n",
       "      <td>4.88</td>\n",
       "      <td>2014</td>\n",
       "      <td>1</td>\n",
       "    </tr>\n",
       "    <tr>\n",
       "      <th>...</th>\n",
       "      <td>...</td>\n",
       "      <td>...</td>\n",
       "      <td>...</td>\n",
       "      <td>...</td>\n",
       "      <td>...</td>\n",
       "      <td>...</td>\n",
       "      <td>...</td>\n",
       "      <td>...</td>\n",
       "      <td>...</td>\n",
       "      <td>...</td>\n",
       "    </tr>\n",
       "    <tr>\n",
       "      <th>9989</th>\n",
       "      <td>2017-12-30</td>\n",
       "      <td>Patrick O'Donnell</td>\n",
       "      <td>New York</td>\n",
       "      <td>Technology</td>\n",
       "      <td>Phones</td>\n",
       "      <td>90.93</td>\n",
       "      <td>7</td>\n",
       "      <td>2.73</td>\n",
       "      <td>2017</td>\n",
       "      <td>12</td>\n",
       "    </tr>\n",
       "    <tr>\n",
       "      <th>9990</th>\n",
       "      <td>2017-12-30</td>\n",
       "      <td>Patrick O'Donnell</td>\n",
       "      <td>New York</td>\n",
       "      <td>Office Supplies</td>\n",
       "      <td>Binders</td>\n",
       "      <td>52.78</td>\n",
       "      <td>3</td>\n",
       "      <td>19.79</td>\n",
       "      <td>2017</td>\n",
       "      <td>12</td>\n",
       "    </tr>\n",
       "    <tr>\n",
       "      <th>9991</th>\n",
       "      <td>2017-12-30</td>\n",
       "      <td>Erica Bern</td>\n",
       "      <td>California</td>\n",
       "      <td>Office Supplies</td>\n",
       "      <td>Binders</td>\n",
       "      <td>13.90</td>\n",
       "      <td>2</td>\n",
       "      <td>4.52</td>\n",
       "      <td>2017</td>\n",
       "      <td>12</td>\n",
       "    </tr>\n",
       "    <tr>\n",
       "      <th>9992</th>\n",
       "      <td>2017-12-30</td>\n",
       "      <td>Erica Bern</td>\n",
       "      <td>California</td>\n",
       "      <td>Office Supplies</td>\n",
       "      <td>Binders</td>\n",
       "      <td>20.72</td>\n",
       "      <td>2</td>\n",
       "      <td>6.48</td>\n",
       "      <td>2017</td>\n",
       "      <td>12</td>\n",
       "    </tr>\n",
       "    <tr>\n",
       "      <th>9993</th>\n",
       "      <td>2017-12-30</td>\n",
       "      <td>Jill Matthias</td>\n",
       "      <td>Colorado</td>\n",
       "      <td>Office Supplies</td>\n",
       "      <td>Fasteners</td>\n",
       "      <td>3.02</td>\n",
       "      <td>3</td>\n",
       "      <td>-0.60</td>\n",
       "      <td>2017</td>\n",
       "      <td>12</td>\n",
       "    </tr>\n",
       "  </tbody>\n",
       "</table>\n",
       "<p>9994 rows × 10 columns</p>\n",
       "</div>"
      ],
      "text/plain": [
       "     Order Date      Customer Name         State         Category   \n",
       "0    2014-01-03      Darren Powers         Texas  Office Supplies  \\\n",
       "1    2014-01-04      Phillina Ober      Illinois  Office Supplies   \n",
       "2    2014-01-04      Phillina Ober      Illinois  Office Supplies   \n",
       "3    2014-01-04      Phillina Ober      Illinois  Office Supplies   \n",
       "4    2014-01-05         Mick Brown  Pennsylvania  Office Supplies   \n",
       "...         ...                ...           ...              ...   \n",
       "9989 2017-12-30  Patrick O'Donnell      New York       Technology   \n",
       "9990 2017-12-30  Patrick O'Donnell      New York  Office Supplies   \n",
       "9991 2017-12-30         Erica Bern    California  Office Supplies   \n",
       "9992 2017-12-30         Erica Bern    California  Office Supplies   \n",
       "9993 2017-12-30      Jill Matthias      Colorado  Office Supplies   \n",
       "\n",
       "     Sub-Category   Sales  Quantity  Profit  Year  Month  \n",
       "0           Paper   16.45         2    5.55  2014      1  \n",
       "1          Labels   11.78         3    4.27  2014      1  \n",
       "2         Storage  272.74         3  -64.77  2014      1  \n",
       "3         Binders    3.54         2   -5.49  2014      1  \n",
       "4             Art   19.54         3    4.88  2014      1  \n",
       "...           ...     ...       ...     ...   ...    ...  \n",
       "9989       Phones   90.93         7    2.73  2017     12  \n",
       "9990      Binders   52.78         3   19.79  2017     12  \n",
       "9991      Binders   13.90         2    4.52  2017     12  \n",
       "9992      Binders   20.72         2    6.48  2017     12  \n",
       "9993    Fasteners    3.02         3   -0.60  2017     12  \n",
       "\n",
       "[9994 rows x 10 columns]"
      ]
     },
     "execution_count": 45,
     "metadata": {},
     "output_type": "execute_result"
    }
   ],
   "source": [
    "data[\"Order Date\"]=pd.to_datetime(data[\"Order Date\"],format=\"%d-%m-%Y\")\n",
    "data[\"Year\"]=data[\"Order Date\"].dt.year\n",
    "data[\"Month\"]=data[\"Order Date\"].dt.month\n",
    "data"
   ]
  },
  {
   "cell_type": "markdown",
   "id": "9559ee3d",
   "metadata": {},
   "source": [
    "# Question\n"
   ]
  },
  {
   "cell_type": "markdown",
   "id": "6fc02199",
   "metadata": {},
   "source": [
    "# 1)How many unique customers are there in the dataset?"
   ]
  },
  {
   "cell_type": "code",
   "execution_count": 28,
   "id": "c4833e4c",
   "metadata": {},
   "outputs": [
    {
     "data": {
      "text/plain": [
       "793"
      ]
     },
     "execution_count": 28,
     "metadata": {},
     "output_type": "execute_result"
    }
   ],
   "source": [
    "data[\"Customer Name\"].nunique()"
   ]
  },
  {
   "cell_type": "markdown",
   "id": "abc100a6",
   "metadata": {},
   "source": [
    "# 2)Which state has the highest number of sales?"
   ]
  },
  {
   "cell_type": "code",
   "execution_count": 52,
   "id": "5127b835",
   "metadata": {},
   "outputs": [
    {
     "data": {
      "text/plain": [
       "State\n",
       "California    457687.68\n",
       "Name: Sales, dtype: float64"
      ]
     },
     "execution_count": 52,
     "metadata": {},
     "output_type": "execute_result"
    }
   ],
   "source": [
    "d=data.groupby('State')[\"Sales\"].sum().sort_values(ascending=False).head(1)\n",
    "d"
   ]
  },
  {
   "cell_type": "markdown",
   "id": "5be5aa79",
   "metadata": {},
   "source": [
    "# 3)What is the total profit for each state?"
   ]
  },
  {
   "cell_type": "code",
   "execution_count": 53,
   "id": "7f007e00",
   "metadata": {},
   "outputs": [
    {
     "data": {
      "text/plain": [
       "State\n",
       "California              76381.60\n",
       "New York                74038.64\n",
       "Washington              33402.70\n",
       "Michigan                24463.15\n",
       "Virginia                18598.00\n",
       "Indiana                 18382.97\n",
       "Georgia                 16250.08\n",
       "Kentucky                11199.70\n",
       "Minnesota               10823.22\n",
       "Delaware                 9977.37\n",
       "New Jersey               9772.91\n",
       "Wisconsin                8401.78\n",
       "Rhode Island             7285.64\n",
       "Maryland                 7031.20\n",
       "Massachusetts            6785.55\n",
       "Missouri                 6436.19\n",
       "Alabama                  5786.85\n",
       "Oklahoma                 4853.98\n",
       "Arkansas                 4008.65\n",
       "Connecticut              3511.44\n",
       "Nevada                   3316.76\n",
       "Mississippi              3172.98\n",
       "Utah                     2546.56\n",
       "Vermont                  2244.98\n",
       "Louisiana                2196.09\n",
       "Nebraska                 2037.10\n",
       "Montana                  1833.32\n",
       "South Carolina           1769.08\n",
       "New Hampshire            1706.50\n",
       "Iowa                     1183.81\n",
       "New Mexico               1157.13\n",
       "District of Columbia     1059.59\n",
       "Kansas                    836.45\n",
       "Idaho                     826.73\n",
       "Maine                     454.50\n",
       "South Dakota              394.84\n",
       "North Dakota              230.14\n",
       "West Virginia             185.93\n",
       "Wyoming                   100.20\n",
       "Oregon                  -1190.48\n",
       "Florida                 -3399.25\n",
       "Arizona                 -3427.87\n",
       "Tennessee               -5341.66\n",
       "Colorado                -6527.86\n",
       "North Carolina          -7490.81\n",
       "Illinois               -12607.89\n",
       "Pennsylvania           -15560.04\n",
       "Ohio                   -16971.37\n",
       "Texas                  -25729.29\n",
       "Name: Profit, dtype: float64"
      ]
     },
     "execution_count": 53,
     "metadata": {},
     "output_type": "execute_result"
    }
   ],
   "source": [
    "data.groupby(\"State\")[\"Profit\"].sum().sort_values(ascending=False)"
   ]
  },
  {
   "cell_type": "markdown",
   "id": "b1b3145a",
   "metadata": {},
   "source": [
    "# 4)On which date were the highest sales recorded?"
   ]
  },
  {
   "cell_type": "code",
   "execution_count": 55,
   "id": "9733ed6c",
   "metadata": {},
   "outputs": [
    {
     "data": {
      "text/plain": [
       "Order Date\n",
       "2014-03-18    28106.73\n",
       "Name: Sales, dtype: float64"
      ]
     },
     "execution_count": 55,
     "metadata": {},
     "output_type": "execute_result"
    }
   ],
   "source": [
    "data.groupby(\"Order Date\")[\"Sales\"].sum().sort_values(ascending=False).head(1)"
   ]
  },
  {
   "cell_type": "markdown",
   "id": "08a3ca14",
   "metadata": {},
   "source": [
    "# 5)How many orders have a negative profit?"
   ]
  },
  {
   "cell_type": "code",
   "execution_count": 59,
   "id": "2c6dfa40",
   "metadata": {},
   "outputs": [
    {
     "data": {
      "text/plain": [
       "1871"
      ]
     },
     "execution_count": 59,
     "metadata": {},
     "output_type": "execute_result"
    }
   ],
   "source": [
    "data[data[\"Profit\"]<0].shape[0]"
   ]
  },
  {
   "cell_type": "markdown",
   "id": "2f5e80f3",
   "metadata": {},
   "source": [
    "# 6)Which category has the highest sales?"
   ]
  },
  {
   "cell_type": "code",
   "execution_count": 60,
   "id": "a1d390ec",
   "metadata": {},
   "outputs": [
    {
     "data": {
      "text/plain": [
       "Category\n",
       "Technology    836154.1\n",
       "Name: Sales, dtype: float64"
      ]
     },
     "execution_count": 60,
     "metadata": {},
     "output_type": "execute_result"
    }
   ],
   "source": [
    "data.groupby(\"Category\")[\"Sales\"].sum().sort_values(ascending=False).head(1)"
   ]
  },
  {
   "cell_type": "markdown",
   "id": "98086aed",
   "metadata": {},
   "source": [
    "# 7)For which sub-category is the profit margin (Profit/Sales) the highest?"
   ]
  },
  {
   "cell_type": "code",
   "execution_count": 65,
   "id": "661d21e0",
   "metadata": {},
   "outputs": [
    {
     "data": {
      "text/plain": [
       "Sub-Category\n",
       "Paper    583.061209\n",
       "Name: profit_margin, dtype: float64"
      ]
     },
     "execution_count": 65,
     "metadata": {},
     "output_type": "execute_result"
    }
   ],
   "source": [
    "data[\"profit_margin\"]=data[\"Profit\"]/data[\"Sales\"]\n",
    "data.groupby(\"Sub-Category\")[\"profit_margin\"].sum().sort_values(ascending=False).head(1)"
   ]
  },
  {
   "cell_type": "markdown",
   "id": "21593b78",
   "metadata": {},
   "source": [
    "# 8)What is the average profit per order?"
   ]
  },
  {
   "cell_type": "code",
   "execution_count": 64,
   "id": "ddf385d8",
   "metadata": {},
   "outputs": [
    {
     "data": {
      "text/plain": [
       "29.0"
      ]
     },
     "execution_count": 64,
     "metadata": {},
     "output_type": "execute_result"
    }
   ],
   "source": [
    "np.round(data[\"Profit\"].mean())"
   ]
  },
  {
   "cell_type": "markdown",
   "id": "6274daad",
   "metadata": {},
   "source": [
    "# 9)Which year had the highest sales?"
   ]
  },
  {
   "cell_type": "code",
   "execution_count": 67,
   "id": "ea832632",
   "metadata": {},
   "outputs": [
    {
     "data": {
      "text/plain": [
       "Year\n",
       "2017    733215.19\n",
       "Name: Sales, dtype: float64"
      ]
     },
     "execution_count": 67,
     "metadata": {},
     "output_type": "execute_result"
    }
   ],
   "source": [
    "data.groupby(\"Year\")[\"Sales\"].sum().sort_values(ascending=False).head(1)"
   ]
  },
  {
   "cell_type": "markdown",
   "id": "e2593e0e",
   "metadata": {},
   "source": [
    "# 10)Which month in 2015 had the least number of unique customers?"
   ]
  },
  {
   "cell_type": "code",
   "execution_count": 70,
   "id": "9b3b251d",
   "metadata": {},
   "outputs": [
    {
     "data": {
      "text/plain": [
       "Year  Month\n",
       "2014  2        27\n",
       "Name: Customer Name, dtype: int64"
      ]
     },
     "execution_count": 70,
     "metadata": {},
     "output_type": "execute_result"
    }
   ],
   "source": [
    "data.groupby([\"Year\",\"Month\"])[\"Customer Name\"].nunique().sort_values().head(1)"
   ]
  },
  {
   "cell_type": "markdown",
   "id": "c7851129",
   "metadata": {},
   "source": [
    "# 11)How many orders were made in the second half of the year (Jul-Dec)?"
   ]
  },
  {
   "cell_type": "code",
   "execution_count": 76,
   "id": "86b7a217",
   "metadata": {},
   "outputs": [
    {
     "data": {
      "text/plain": [
       "Year\n",
       "2014    1041\n",
       "2015    1082\n",
       "2016    1306\n",
       "2017    1660\n",
       "dtype: int64"
      ]
     },
     "execution_count": 76,
     "metadata": {},
     "output_type": "execute_result"
    }
   ],
   "source": [
    "data[(data[\"Month\"]>=7)&(data[\"Month\"]<12)].groupby([\"Year\"]).size()\n"
   ]
  },
  {
   "cell_type": "markdown",
   "id": "7f82887e",
   "metadata": {},
   "source": [
    "# 12)What's the average profit in the month of November?"
   ]
  },
  {
   "cell_type": "code",
   "execution_count": 79,
   "id": "8d65f222",
   "metadata": {},
   "outputs": [
    {
     "data": {
      "text/plain": [
       "24.0"
      ]
     },
     "execution_count": 79,
     "metadata": {},
     "output_type": "execute_result"
    }
   ],
   "source": [
    "np.round(data[data[\"Month\"]==11][\"Profit\"].mean())"
   ]
  },
  {
   "cell_type": "code",
   "execution_count": 80,
   "id": "523f460e",
   "metadata": {},
   "outputs": [
    {
     "data": {
      "text/plain": [
       "Year\n",
       "2014    29.220597\n",
       "2015    38.502469\n",
       "2016    10.841757\n",
       "2017    21.111329\n",
       "Name: Profit, dtype: float64"
      ]
     },
     "execution_count": 80,
     "metadata": {},
     "output_type": "execute_result"
    }
   ],
   "source": [
    "data[data[\"Month\"]==11].groupby(\"Year\")[\"Profit\"].mean()"
   ]
  },
  {
   "cell_type": "markdown",
   "id": "d89bf00a",
   "metadata": {},
   "source": [
    "# 13)In which month and year was the profit to sales ratio the highest?"
   ]
  },
  {
   "cell_type": "code",
   "execution_count": 82,
   "id": "ba320ad6",
   "metadata": {},
   "outputs": [
    {
     "data": {
      "text/plain": [
       "Year  Month\n",
       "2017  9        68.36559\n",
       "Name: profit_margin, dtype: float64"
      ]
     },
     "execution_count": 82,
     "metadata": {},
     "output_type": "execute_result"
    }
   ],
   "source": [
    "data.groupby([\"Year\",\"Month\"])[\"profit_margin\"].sum().sort_values(ascending=False).head(1)"
   ]
  },
  {
   "cell_type": "markdown",
   "id": "5671c334",
   "metadata": {},
   "source": [
    "# 14)In which month of 2014 did the office supplies category have the lowest sales?"
   ]
  },
  {
   "cell_type": "code",
   "execution_count": 87,
   "id": "ebd9e411",
   "metadata": {},
   "outputs": [
    {
     "data": {
      "text/plain": [
       "Month\n",
       "2    1071.75\n",
       "Name: Sales, dtype: float64"
      ]
     },
     "execution_count": 87,
     "metadata": {},
     "output_type": "execute_result"
    }
   ],
   "source": [
    "c=data[(data[\"Year\"]==2014) & (data[\"Category\"]==\"Office Supplies\")]\n",
    "c.groupby(\"Month\")[\"Sales\"].sum().sort_values().head(1)\n",
    "\n"
   ]
  },
  {
   "cell_type": "markdown",
   "id": "184ab67b",
   "metadata": {},
   "source": [
    "# 15)Which customer made the most number of orders in 2014?"
   ]
  },
  {
   "cell_type": "code",
   "execution_count": 90,
   "id": "e628d978",
   "metadata": {},
   "outputs": [
    {
     "data": {
      "text/plain": [
       "Customer Name\n",
       "Sam Craven    16\n",
       "dtype: int64"
      ]
     },
     "execution_count": 90,
     "metadata": {},
     "output_type": "execute_result"
    }
   ],
   "source": [
    "data[data[\"Year\"]==2014].groupby(\"Customer Name\").size().sort_values(ascending=False).head(1)"
   ]
  },
  {
   "cell_type": "code",
   "execution_count": null,
   "id": "0112ad35",
   "metadata": {},
   "outputs": [],
   "source": []
  }
 ],
 "metadata": {
  "kernelspec": {
   "display_name": "Python 3 (ipykernel)",
   "language": "python",
   "name": "python3"
  },
  "language_info": {
   "codemirror_mode": {
    "name": "ipython",
    "version": 3
   },
   "file_extension": ".py",
   "mimetype": "text/x-python",
   "name": "python",
   "nbconvert_exporter": "python",
   "pygments_lexer": "ipython3",
   "version": "3.11.0"
  }
 },
 "nbformat": 4,
 "nbformat_minor": 5
}
